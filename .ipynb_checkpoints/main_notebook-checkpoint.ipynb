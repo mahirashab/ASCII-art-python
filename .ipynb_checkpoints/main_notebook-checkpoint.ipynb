{
 "cells": [
  {
   "cell_type": "markdown",
   "metadata": {},
   "source": [
    "Imported all needed modules"
   ]
  },
  {
   "cell_type": "code",
   "execution_count": 1,
   "metadata": {},
   "outputs": [],
   "source": [
    "import cv2\n",
    "import numpy as np"
   ]
  },
  {
   "cell_type": "code",
   "execution_count": 19,
   "metadata": {},
   "outputs": [],
   "source": [
    "code_for_dark = \"`^\\\",:;Il!i~+_-?][}{1)(|\\\\/tfjrxnuvczXYUJCLQ0OZmwqpdbkhao*#MW&8%B@$\"\n",
    "code_for_white = '$@B%8&WM#*oahkbdpqwmZO0QLCJUYXzcvunxrjft/\\\\|()1{}[]?-_+~i!lI;:,\"^`'"
   ]
  },
  {
   "cell_type": "code",
   "execution_count": 20,
   "metadata": {},
   "outputs": [],
   "source": [
    "char_size = 5"
   ]
  },
  {
   "cell_type": "code",
   "execution_count": 21,
   "metadata": {},
   "outputs": [],
   "source": [
    "def scale_image(img, width = 200):\n",
    "    \n",
    "#     INTER_NEAREST - a nearest-neighbor interpolation\n",
    "#     INTER_LINEAR - a bilinear interpolation (used by default)\n",
    "#     INTER_AREA - resampling using pixel area relation. It may be a preferred method for image decimation, as it gives moire’-free results. But when the image is zoomed, it is similar to the INTER_NEAREST method.\n",
    "#     INTER_CUBIC - a bicubic interpolation over 4x4 pixel neighborhood\n",
    "#     INTER_LANCZOS4 - a Lanczos interpolation over 8x8 pixel neighborhood\n",
    "\n",
    "    (w, h) = img.shape\n",
    "    aspect_ratio = w / h \n",
    "    height = int(width * aspect_ratio)\n",
    "    \n",
    "    return cv2.resize(img, dsize = (width, height), interpolation=cv2.INTER_CUBIC)"
   ]
  },
  {
   "cell_type": "code",
   "execution_count": 22,
   "metadata": {},
   "outputs": [],
   "source": [
    "def scale(x, out_range=(0, 64)):\n",
    "    f_min, f_max = 0, 255\n",
    "    t_min, t_max = out_range[0], out_range[1]\n",
    "\n",
    "    y = ((x - f_min) * ((t_max - t_min) / float(f_max - f_min))) + t_min\n",
    "\n",
    "    return int(y)"
   ]
  },
  {
   "cell_type": "code",
   "execution_count": 23,
   "metadata": {},
   "outputs": [],
   "source": [
    "v_scale = np.vectorize(scale)"
   ]
  },
  {
   "cell_type": "code",
   "execution_count": 24,
   "metadata": {},
   "outputs": [],
   "source": [
    "def text_matrix(x, string):\n",
    "    return string[x]"
   ]
  },
  {
   "cell_type": "code",
   "execution_count": 25,
   "metadata": {},
   "outputs": [],
   "source": [
    "v_text_matrix = np.vectorize(text_matrix)"
   ]
  },
  {
   "cell_type": "code",
   "execution_count": 34,
   "metadata": {},
   "outputs": [],
   "source": [
    "# FONT_HERSHEY_SIMPLEX = 0\n",
    "# FONT_HERSHEY_PLAIN = 1\n",
    "# FONT_HERSHEY_DUPLEX = 2\n",
    "# FONT_HERSHEY_COMPLEX = 3\n",
    "# FONT_HERSHEY_TRIPLEX = 4\n",
    "# FONT_HERSHEY_COMPLEX_SMALL = 5\n",
    "# FONT_HERSHEY_SCRIPT_SIMPLEX = 6\n",
    "# FONT_HERSHEY_SCRIPT_COMPLEX = 7\n",
    "\n",
    "# the image on which to draw\n",
    "# the text to be written\n",
    "# coordinates of the text start point\n",
    "# font to be used\n",
    "# font size\n",
    "# text color\n",
    "# text thickness\n",
    "# the type of line used\n",
    "\n",
    "font = cv2.FONT_HERSHEY_DUPLEX\n",
    "img_np = np.ones(shape=[111, 111])\n",
    "\n",
    "def show_result(matrix, w, h):\n",
    "    matrix = matrix.T\n",
    "    blank_image = np.zeros(shape=[w*char_size, h*char_size])\n",
    "    blank_image = cv2.resize(img_np,(w*char_size + 10,h*char_size + 10))\n",
    "    \n",
    "    for i in range(0, w):\n",
    "        for j in range(0, h):\n",
    "            blank_image = cv2.putText(blank_image, matrix[i][j], (i*char_size, j*char_size), font, 0.2, (0, 255, 0), 1, cv2.LINE_AA)\n",
    "    \n",
    "    cv2.imshow('Result',blank_image)\n",
    "  \n",
    "    cv2.waitKey(0)\n",
    "    cv2.destroyAllWindows()"
   ]
  },
  {
   "cell_type": "code",
   "execution_count": 42,
   "metadata": {},
   "outputs": [],
   "source": [
    "def process_img(img):\n",
    "    pixel_matrix = np.asarray(img)\n",
    "    print(\"Successfully constructed pixel matrix!\")\n",
    "    print(\"----------------------------\")\n",
    "    print(\"----------------------------\")\n",
    "\n",
    "    index_matrix = v_scale(pixel_matrix)\n",
    "    print(\"Successfully constructed index_matrix!!\")\n",
    "    print(\"Matrix size :-\", index_matrix.shape)\n",
    "    print(\"----------------------------\")\n",
    "    \n",
    "    char_matrix = v_text_matrix(index_matrix, code_for_white)\n",
    "    print(\"Successfully constructed char_matrix!!\")\n",
    "    print(\"Matrix size :-\", char_matrix.shape)\n",
    "    print(\"----------------------------\")\n",
    "    \n",
    "    (w, h) = char_matrix.shape\n",
    "    \n",
    "    print(\"Showing result!!\")\n",
    "    print(\"----------------------------\")\n",
    "    \n",
    "    show_result(char_matrix, h, w)"
   ]
  },
  {
   "cell_type": "code",
   "execution_count": 43,
   "metadata": {},
   "outputs": [],
   "source": [
    "def main():\n",
    "    try:\n",
    "        image = cv2.imread('./img/test.jpg')\n",
    "    except FileNotFoundError:\n",
    "        print(\"Couldn't find test.*** image to process.\")\n",
    "    else:\n",
    "        print(\"Loaded image successfully!!!\")\n",
    "        print(\"Image size :-\", image.size)\n",
    "        print(\"----------------------------\")\n",
    "\n",
    "        gray_image = cv2.cvtColor(image, cv2.COLOR_BGR2GRAY)\n",
    "        scaled_img = scale_image(gray_image)\n",
    "        \n",
    "        process_img(scaled_img)"
   ]
  },
  {
   "cell_type": "code",
   "execution_count": 44,
   "metadata": {},
   "outputs": [
    {
     "name": "stdout",
     "output_type": "stream",
     "text": [
      "Loaded image successfully!!!\n",
      "Image size :- 151152\n",
      "----------------------------\n",
      "Successfully constructed pixel matrix!\n",
      "----------------------------\n",
      "----------------------------\n",
      "Successfully constructed index_matrix!!\n",
      "Matrix size :- (140, 200)\n",
      "----------------------------\n",
      "Successfully constructed char_matrix!!\n",
      "Matrix size :- (140, 200)\n",
      "----------------------------\n",
      "Showing result!!\n",
      "----------------------------\n"
     ]
    }
   ],
   "source": [
    "main()"
   ]
  },
  {
   "cell_type": "code",
   "execution_count": null,
   "metadata": {},
   "outputs": [],
   "source": []
  },
  {
   "cell_type": "code",
   "execution_count": null,
   "metadata": {},
   "outputs": [],
   "source": []
  }
 ],
 "metadata": {
  "kernelspec": {
   "display_name": "Python 3",
   "language": "python",
   "name": "python3"
  },
  "language_info": {
   "codemirror_mode": {
    "name": "ipython",
    "version": 3
   },
   "file_extension": ".py",
   "mimetype": "text/x-python",
   "name": "python",
   "nbconvert_exporter": "python",
   "pygments_lexer": "ipython3",
   "version": "3.6.4"
  }
 },
 "nbformat": 4,
 "nbformat_minor": 2
}
